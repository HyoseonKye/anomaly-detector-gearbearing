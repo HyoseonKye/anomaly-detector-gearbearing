{
  "nbformat": 4,
  "nbformat_minor": 0,
  "metadata": {
    "colab": {
      "name": "Untitled5.ipynb",
      "provenance": [],
      "private_outputs": true,
      "authorship_tag": "ABX9TyOApwmS+dZk2b1zYXHIFPaf",
      "include_colab_link": true
    },
    "kernelspec": {
      "name": "python3",
      "display_name": "Python 3"
    }
  },
  "cells": [
    {
      "cell_type": "markdown",
      "metadata": {
        "id": "view-in-github",
        "colab_type": "text"
      },
      "source": [
        "<a href=\"https://colab.research.google.com/github/HyoseonKye/anomaly-detector-gearbearing/blob/master/Untitled5.ipynb\" target=\"_parent\"><img src=\"https://colab.research.google.com/assets/colab-badge.svg\" alt=\"Open In Colab\"/></a>"
      ]
    },
    {
      "cell_type": "code",
      "metadata": {
        "id": "kcLrzgh_wQyA",
        "colab_type": "code",
        "colab": {}
      },
      "source": [
        "from google.colab import drive\n",
        "drive.mount('/content/data')\n",
        "\n",
        "# library\n",
        "import os\n",
        "import pandas as pd\n",
        "import numpy as np\n",
        "from sklearn import preprocessing\n",
        "import seaborn as sns\n",
        "# sns.set(color_codes=True)\n",
        "\n",
        "import matplotlib.pyplot as plt\n",
        "%matplotlib inline\n",
        "\n",
        "import warnings\n",
        "warnings.filterwarnings('ignore')\n",
        "\n"
      ],
      "execution_count": null,
      "outputs": []
    },
    {
      "cell_type": "code",
      "metadata": {
        "id": "xO2Hh2w5xNzt",
        "colab_type": "code",
        "colab": {}
      },
      "source": [
        "#dataset = pd.read_csv('/content/data/My Drive/test/merged_dataset_BearingTest_2.txt',index_col=[0])\n",
        "from google.colab import files \n",
        "uploaded=files.upload()\n",
        "dataset.head()"
      ],
      "execution_count": null,
      "outputs": []
    },
    {
      "cell_type": "code",
      "metadata": {
        "id": "VUlcjkssxb2g",
        "colab_type": "code",
        "colab": {}
      },
      "source": [
        "dataset.info()"
      ],
      "execution_count": null,
      "outputs": []
    },
    {
      "cell_type": "code",
      "metadata": {
        "id": "s7ALcxLGxuWi",
        "colab_type": "code",
        "colab": {}
      },
      "source": [
        "# transform the index to datetime format \n",
        "dataset.index = pd.to_datetime(dataset.index, format='%Y-%m-%d %H:%M:%S')\n",
        "dataset = dataset.sort_index()"
      ],
      "execution_count": null,
      "outputs": []
    },
    {
      "cell_type": "code",
      "metadata": {
        "id": "hdnfdhIiyTiv",
        "colab_type": "code",
        "colab": {}
      },
      "source": [
        "dataset.to_csv('merged_dataset_BearingTest_2.txt')\n",
        "dataset.head()"
      ],
      "execution_count": null,
      "outputs": []
    },
    {
      "cell_type": "code",
      "metadata": {
        "id": "54vlUscWyY10",
        "colab_type": "code",
        "colab": {}
      },
      "source": [
        "dataset.plot()\n",
        "plt.show()"
      ],
      "execution_count": null,
      "outputs": []
    },
    {
      "cell_type": "code",
      "metadata": {
        "id": "ifM7VM7jygD-",
        "colab_type": "code",
        "colab": {}
      },
      "source": [
        "# Split data\n",
        "dataset_train = dataset['2004-02-12 11:02:39':'2004-02-13 23:52:39']\n",
        "dataset_test = dataset['2004-02-13 23:52:39':]\n",
        "\n",
        "dataset_train.shape, dataset_test.shape"
      ],
      "execution_count": null,
      "outputs": []
    },
    {
      "cell_type": "code",
      "metadata": {
        "id": "0fgum_l8yogV",
        "colab_type": "code",
        "colab": {}
      },
      "source": [
        "dataset_train.plot(figsize = (12,6))\n",
        "plt.show()"
      ],
      "execution_count": null,
      "outputs": []
    },
    {
      "cell_type": "code",
      "metadata": {
        "id": "WLijBW04yry7",
        "colab_type": "code",
        "colab": {}
      },
      "source": [
        "# The “MinMaxScaler” simply re-scales the data to be in the range [0,1]\n",
        "scaler = preprocessing.MinMaxScaler()\n",
        "\n",
        "X_train = pd.DataFrame(scaler.fit_transform(dataset_train), \n",
        "                              columns=dataset_train.columns, \n",
        "                              index=dataset_train.index)"
      ],
      "execution_count": null,
      "outputs": []
    },
    {
      "cell_type": "code",
      "metadata": {
        "id": "5gDMkLYoyuuB",
        "colab_type": "code",
        "colab": {}
      },
      "source": [
        "# Random shuffle training data\n",
        "X_train.sample(frac=1)\n",
        "\n",
        "X_test = pd.DataFrame(scaler.transform(dataset_test), \n",
        "                             columns=dataset_test.columns, \n",
        "                             index=dataset_test.index)"
      ],
      "execution_count": null,
      "outputs": []
    },
    {
      "cell_type": "code",
      "metadata": {
        "id": "kLuwCStpyxS4",
        "colab_type": "code",
        "colab": {}
      },
      "source": [
        "X_train.plot(figsize = (12,6))\n",
        "plt.show()"
      ],
      "execution_count": null,
      "outputs": []
    },
    {
      "cell_type": "code",
      "metadata": {
        "id": "DD4K8ETky1l4",
        "colab_type": "code",
        "colab": {}
      },
      "source": [
        "\n",
        "X_test.plot(figsize = (12,6))\n",
        "plt.show()"
      ],
      "execution_count": null,
      "outputs": []
    },
    {
      "cell_type": "code",
      "metadata": {
        "id": "6wzCJxy0y3V1",
        "colab_type": "code",
        "colab": {}
      },
      "source": [
        "# PCA\n",
        "from sklearn.decomposition import PCA\n",
        "pca = PCA(n_components=2, svd_solver= 'full')\n",
        "X_train_PCA = pca.fit_transform(X_train)\n",
        "X_train_PCA = pd.DataFrame(X_train_PCA)\n",
        "X_train_PCA.index = X_train.index\n",
        "\n",
        "X_test_PCA = pca.transform(X_test)\n",
        "X_test_PCA = pd.DataFrame(X_test_PCA)\n",
        "X_test_PCA.index = X_test.index"
      ],
      "execution_count": null,
      "outputs": []
    },
    {
      "cell_type": "code",
      "metadata": {
        "id": "XktyiX7jy67S",
        "colab_type": "code",
        "colab": {}
      },
      "source": [
        "def cov_matrix(data, verbose=False):\n",
        "    covariance_matrix = np.cov(data, rowvar=False)\n",
        "    if is_pos_def(covariance_matrix):\n",
        "        inv_covariance_matrix = np.linalg.inv(covariance_matrix)\n",
        "        if is_pos_def(inv_covariance_matrix):\n",
        "            return covariance_matrix, inv_covariance_matrix\n",
        "        else:\n",
        "            print(\"Error: Inverse of Covariance Matrix is not positive definite!\")\n",
        "    else:\n",
        "        print(\"Error: Covariance Matrix is not positive definite!\")"
      ],
      "execution_count": null,
      "outputs": []
    },
    {
      "cell_type": "code",
      "metadata": {
        "id": "HDW8Un86y9vR",
        "colab_type": "code",
        "colab": {}
      },
      "source": [
        "# Mahalanobis distance\n",
        "def MahalanobisDist(inv_cov_matrix, mean_distr, data, verbose=False):\n",
        "    inv_covariance_matrix = inv_cov_matrix\n",
        "    vars_mean = mean_distr\n",
        "    diff = data - vars_mean\n",
        "    md = []\n",
        "    for i in range(len(diff)):\n",
        "        md.append(np.sqrt(diff[i].dot(inv_covariance_matrix).dot(diff[i])))\n",
        "    return md"
      ],
      "execution_count": null,
      "outputs": []
    },
    {
      "cell_type": "code",
      "metadata": {
        "id": "RZ_1z0lLzAK-",
        "colab_type": "code",
        "colab": {}
      },
      "source": [
        "# Detecting outliers\n",
        "def MD_detectOutliers(dist, extreme=False, verbose=False):\n",
        "    k = 3. if extreme else 2.\n",
        "    threshold = np.mean(dist) * k\n",
        "    outliers = []\n",
        "    for i in range(len(dist)):\n",
        "        if dist[i] >= threshold:\n",
        "            outliers.append(i)  # index of the outlier\n",
        "    return np.array(outliers)"
      ],
      "execution_count": null,
      "outputs": []
    },
    {
      "cell_type": "code",
      "metadata": {
        "id": "HIB2gCk2zCLf",
        "colab_type": "code",
        "colab": {}
      },
      "source": [
        "# Calculate threshold value for classifying datapoint as anomaly:\n",
        "def MD_threshold(dist, extreme=False, verbose=False):\n",
        "    k = 3. if extreme else 2.\n",
        "    threshold = np.mean(dist) * k\n",
        "    return threshold"
      ],
      "execution_count": null,
      "outputs": []
    },
    {
      "cell_type": "code",
      "metadata": {
        "id": "oI89xDWjzESW",
        "colab_type": "code",
        "colab": {}
      },
      "source": [
        "# Check if matrix is positive definite:\n",
        "def is_pos_def(A):\n",
        "    if np.allclose(A, A.T):\n",
        "        try:\n",
        "            np.linalg.cholesky(A)\n",
        "            return True\n",
        "        except np.linalg.LinAlgError:\n",
        "            return False\n",
        "    else:\n",
        "        return False"
      ],
      "execution_count": null,
      "outputs": []
    },
    {
      "cell_type": "code",
      "metadata": {
        "id": "DamiNzM6zIUD",
        "colab_type": "code",
        "colab": {}
      },
      "source": [
        "# Define train/test set from the two main principal components:\n",
        "data_train = np.array(X_train_PCA.values)\n",
        "data_test = np.array(X_test_PCA.values)"
      ],
      "execution_count": null,
      "outputs": []
    },
    {
      "cell_type": "code",
      "metadata": {
        "id": "5Z7aZ2dkzK4a",
        "colab_type": "code",
        "colab": {}
      },
      "source": [
        "# Calculate the covariance matrix and its inverse, based on data in the training set:\n",
        "cov_matrix, inv_cov_matrix  = cov_matrix(data_train)"
      ],
      "execution_count": null,
      "outputs": []
    },
    {
      "cell_type": "code",
      "metadata": {
        "id": "J1yzgiEjzNMG",
        "colab_type": "code",
        "colab": {}
      },
      "source": [
        "cov_matrix"
      ],
      "execution_count": null,
      "outputs": []
    },
    {
      "cell_type": "code",
      "metadata": {
        "id": "xt2enRoXzPWb",
        "colab_type": "code",
        "colab": {}
      },
      "source": [
        "inv_cov_matrix"
      ],
      "execution_count": null,
      "outputs": []
    },
    {
      "cell_type": "code",
      "metadata": {
        "id": "1PPrneXEzSKU",
        "colab_type": "code",
        "colab": {}
      },
      "source": [
        "# calculate the mean value for the input variables in the training set\n",
        "mean_distr = data_train.mean(axis=0)\n",
        "mean_distr"
      ],
      "execution_count": null,
      "outputs": []
    },
    {
      "cell_type": "code",
      "metadata": {
        "id": "5n8bRpIizVRz",
        "colab_type": "code",
        "colab": {}
      },
      "source": [
        "# calculate the Mahalanobis distance for the training data defining “normal conditions”\n",
        "dist_test = MahalanobisDist(inv_cov_matrix, mean_distr, data_test, verbose=False)\n",
        "dist_train = MahalanobisDist(inv_cov_matrix, mean_distr, data_train, verbose=False)\n",
        "\n",
        "# find the threshold value to flag datapoints as an anomaly.\n",
        "threshold = MD_threshold(dist_train, extreme = True)"
      ],
      "execution_count": null,
      "outputs": []
    },
    {
      "cell_type": "code",
      "metadata": {
        "id": "Nu0JpB59zYxP",
        "colab_type": "code",
        "colab": {}
      },
      "source": [
        "threshold"
      ],
      "execution_count": null,
      "outputs": []
    },
    {
      "cell_type": "code",
      "metadata": {
        "id": "3_KACOLVzbEL",
        "colab_type": "code",
        "colab": {}
      },
      "source": [
        "\n",
        "# visualizing the square of the Mahalanobis distance\n",
        "plt.figure()\n",
        "sns.distplot(np.square(dist_train),\n",
        "             bins = 10, \n",
        "             kde= False);\n",
        "plt.xlim([0.0,15])\n",
        "plt.xlabel('Square of the Mahalanobis distance')\n",
        "plt.show()"
      ],
      "execution_count": null,
      "outputs": []
    },
    {
      "cell_type": "code",
      "metadata": {
        "id": "myoIx_zrzdf2",
        "colab_type": "code",
        "colab": {}
      },
      "source": [
        "\n",
        "# visualize the Mahalanobis distance itself:\n",
        "plt.figure()\n",
        "sns.distplot(dist_train,\n",
        "             bins = 10, \n",
        "             kde= True, \n",
        "            color = 'green');\n",
        "plt.xlim([0.0,5])\n",
        "plt.xlabel('Mahalanobis dist')\n",
        "plt.show()"
      ],
      "execution_count": null,
      "outputs": []
    },
    {
      "cell_type": "code",
      "metadata": {
        "id": "S2kp7HTizi7h",
        "colab_type": "code",
        "colab": {}
      },
      "source": [
        "anomaly_train = pd.DataFrame()\n",
        "anomaly_train['Mob dist']= dist_train\n",
        "anomaly_train['Thresh'] = threshold\n",
        "\n",
        "# If Mob dist above threshold: Flag as anomaly\n",
        "anomaly_train['Anomaly'] = anomaly_train['Mob dist'] > anomaly_train['Thresh']\n",
        "anomaly_train.index = X_train_PCA.index"
      ],
      "execution_count": null,
      "outputs": []
    },
    {
      "cell_type": "code",
      "metadata": {
        "id": "VKw-wb7XzlIc",
        "colab_type": "code",
        "colab": {}
      },
      "source": [
        "anomaly_train.info()"
      ],
      "execution_count": null,
      "outputs": []
    },
    {
      "cell_type": "code",
      "metadata": {
        "id": "E_87Rf2izmbb",
        "colab_type": "code",
        "colab": {}
      },
      "source": [
        "anomaly_train.Anomaly.value_counts()"
      ],
      "execution_count": null,
      "outputs": []
    },
    {
      "cell_type": "code",
      "metadata": {
        "id": "MqMX6Bmfzqrp",
        "colab_type": "code",
        "colab": {}
      },
      "source": [
        "anomaly_train.head()"
      ],
      "execution_count": null,
      "outputs": []
    },
    {
      "cell_type": "code",
      "metadata": {
        "id": "IHT11ls4zur0",
        "colab_type": "code",
        "colab": {}
      },
      "source": [
        "anomaly = pd.DataFrame()\n",
        "anomaly['Mob dist']= dist_test\n",
        "anomaly['Thresh'] = threshold\n",
        "\n",
        "# If Mob dist above threshold: Flag as anomaly\n",
        "anomaly['Anomaly'] = anomaly['Mob dist'] > anomaly['Thresh']\n",
        "anomaly.index = X_test_PCA.index\n",
        "anomaly.head()"
      ],
      "execution_count": null,
      "outputs": []
    },
    {
      "cell_type": "code",
      "metadata": {
        "id": "5VFolWOjzzZd",
        "colab_type": "code",
        "colab": {}
      },
      "source": [
        "anomaly.info()"
      ],
      "execution_count": null,
      "outputs": []
    },
    {
      "cell_type": "code",
      "metadata": {
        "id": "5wQ-DZDpz2df",
        "colab_type": "code",
        "colab": {}
      },
      "source": [
        "anomaly.Anomaly.value_counts()"
      ],
      "execution_count": null,
      "outputs": []
    },
    {
      "cell_type": "code",
      "metadata": {
        "id": "mG3l0kEzz5e-",
        "colab_type": "code",
        "colab": {}
      },
      "source": [
        "anomaly_alldata = pd.concat([anomaly_train, anomaly])\n",
        "#anomaly_alldata.to_csv('Anomaly_distance.csv')"
      ],
      "execution_count": null,
      "outputs": []
    },
    {
      "cell_type": "code",
      "metadata": {
        "id": "gzgUGqv-z9Hc",
        "colab_type": "code",
        "colab": {}
      },
      "source": [
        "anomaly_alldata.head(10)\n",
        "anomaly_alldata.tail(10)"
      ],
      "execution_count": null,
      "outputs": []
    },
    {
      "cell_type": "code",
      "metadata": {
        "id": "yAerzRVB0A23",
        "colab_type": "code",
        "colab": {}
      },
      "source": [
        "anomaly_alldata.plot(logy=True, figsize = (10,6), ylim = [1e-1,1e3], color = ['green','red'])\n",
        "plt.show()"
      ],
      "execution_count": null,
      "outputs": []
    }
  ]
}